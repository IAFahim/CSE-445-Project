{
 "cells": [
  {
   "cell_type": "markdown",
   "metadata": {
    "id": "_Im8IPegha5N"
   },
   "source": [
    "# Dataset Upload"
   ]
  },
  {
   "cell_type": "code",
   "execution_count": 1,
   "metadata": {
    "colab": {
     "base_uri": "https://localhost:8080/",
     "height": 300
    },
    "id": "AsyiydOdilAh",
    "outputId": "95a3c987-0075-4e26-8e51-4dcbc9d0c4f5"
   },
   "outputs": [
    {
     "data": {
      "text/html": [
       "<div>\n",
       "<style scoped>\n",
       "    .dataframe tbody tr th:only-of-type {\n",
       "        vertical-align: middle;\n",
       "    }\n",
       "\n",
       "    .dataframe tbody tr th {\n",
       "        vertical-align: top;\n",
       "    }\n",
       "\n",
       "    .dataframe thead th {\n",
       "        text-align: right;\n",
       "    }\n",
       "</style>\n",
       "<table border=\"1\" class=\"dataframe\">\n",
       "  <thead>\n",
       "    <tr style=\"text-align: right;\">\n",
       "      <th></th>\n",
       "      <th>Marital status</th>\n",
       "      <th>Application mode</th>\n",
       "      <th>Application order</th>\n",
       "      <th>Course</th>\n",
       "      <th>Daytime/evening attendance</th>\n",
       "      <th>Previous qualification</th>\n",
       "      <th>Nacionality</th>\n",
       "      <th>Mother's qualification</th>\n",
       "      <th>Father's qualification</th>\n",
       "      <th>Mother's occupation</th>\n",
       "      <th>...</th>\n",
       "      <th>Curricular units 2nd sem (credited)</th>\n",
       "      <th>Curricular units 2nd sem (enrolled)</th>\n",
       "      <th>Curricular units 2nd sem (evaluations)</th>\n",
       "      <th>Curricular units 2nd sem (approved)</th>\n",
       "      <th>Curricular units 2nd sem (grade)</th>\n",
       "      <th>Curricular units 2nd sem (without evaluations)</th>\n",
       "      <th>Unemployment rate</th>\n",
       "      <th>Inflation rate</th>\n",
       "      <th>GDP</th>\n",
       "      <th>Target</th>\n",
       "    </tr>\n",
       "  </thead>\n",
       "  <tbody>\n",
       "    <tr>\n",
       "      <th>0</th>\n",
       "      <td>1</td>\n",
       "      <td>8</td>\n",
       "      <td>5</td>\n",
       "      <td>2</td>\n",
       "      <td>1</td>\n",
       "      <td>1</td>\n",
       "      <td>1</td>\n",
       "      <td>13</td>\n",
       "      <td>10</td>\n",
       "      <td>6</td>\n",
       "      <td>...</td>\n",
       "      <td>0</td>\n",
       "      <td>0</td>\n",
       "      <td>0</td>\n",
       "      <td>0</td>\n",
       "      <td>0.000000</td>\n",
       "      <td>0</td>\n",
       "      <td>10.8</td>\n",
       "      <td>1.4</td>\n",
       "      <td>1.74</td>\n",
       "      <td>Dropout</td>\n",
       "    </tr>\n",
       "    <tr>\n",
       "      <th>1</th>\n",
       "      <td>1</td>\n",
       "      <td>6</td>\n",
       "      <td>1</td>\n",
       "      <td>11</td>\n",
       "      <td>1</td>\n",
       "      <td>1</td>\n",
       "      <td>1</td>\n",
       "      <td>1</td>\n",
       "      <td>3</td>\n",
       "      <td>4</td>\n",
       "      <td>...</td>\n",
       "      <td>0</td>\n",
       "      <td>6</td>\n",
       "      <td>6</td>\n",
       "      <td>6</td>\n",
       "      <td>13.666667</td>\n",
       "      <td>0</td>\n",
       "      <td>13.9</td>\n",
       "      <td>-0.3</td>\n",
       "      <td>0.79</td>\n",
       "      <td>Graduate</td>\n",
       "    </tr>\n",
       "    <tr>\n",
       "      <th>2</th>\n",
       "      <td>1</td>\n",
       "      <td>1</td>\n",
       "      <td>5</td>\n",
       "      <td>5</td>\n",
       "      <td>1</td>\n",
       "      <td>1</td>\n",
       "      <td>1</td>\n",
       "      <td>22</td>\n",
       "      <td>27</td>\n",
       "      <td>10</td>\n",
       "      <td>...</td>\n",
       "      <td>0</td>\n",
       "      <td>6</td>\n",
       "      <td>0</td>\n",
       "      <td>0</td>\n",
       "      <td>0.000000</td>\n",
       "      <td>0</td>\n",
       "      <td>10.8</td>\n",
       "      <td>1.4</td>\n",
       "      <td>1.74</td>\n",
       "      <td>Dropout</td>\n",
       "    </tr>\n",
       "    <tr>\n",
       "      <th>3</th>\n",
       "      <td>1</td>\n",
       "      <td>8</td>\n",
       "      <td>2</td>\n",
       "      <td>15</td>\n",
       "      <td>1</td>\n",
       "      <td>1</td>\n",
       "      <td>1</td>\n",
       "      <td>23</td>\n",
       "      <td>27</td>\n",
       "      <td>6</td>\n",
       "      <td>...</td>\n",
       "      <td>0</td>\n",
       "      <td>6</td>\n",
       "      <td>10</td>\n",
       "      <td>5</td>\n",
       "      <td>12.400000</td>\n",
       "      <td>0</td>\n",
       "      <td>9.4</td>\n",
       "      <td>-0.8</td>\n",
       "      <td>-3.12</td>\n",
       "      <td>Graduate</td>\n",
       "    </tr>\n",
       "    <tr>\n",
       "      <th>4</th>\n",
       "      <td>2</td>\n",
       "      <td>12</td>\n",
       "      <td>1</td>\n",
       "      <td>3</td>\n",
       "      <td>0</td>\n",
       "      <td>1</td>\n",
       "      <td>1</td>\n",
       "      <td>22</td>\n",
       "      <td>28</td>\n",
       "      <td>10</td>\n",
       "      <td>...</td>\n",
       "      <td>0</td>\n",
       "      <td>6</td>\n",
       "      <td>6</td>\n",
       "      <td>6</td>\n",
       "      <td>13.000000</td>\n",
       "      <td>0</td>\n",
       "      <td>13.9</td>\n",
       "      <td>-0.3</td>\n",
       "      <td>0.79</td>\n",
       "      <td>Graduate</td>\n",
       "    </tr>\n",
       "  </tbody>\n",
       "</table>\n",
       "<p>5 rows × 35 columns</p>\n",
       "</div>"
      ],
      "text/plain": [
       "   Marital status  Application mode  Application order  Course  \\\n",
       "0               1                 8                  5       2   \n",
       "1               1                 6                  1      11   \n",
       "2               1                 1                  5       5   \n",
       "3               1                 8                  2      15   \n",
       "4               2                12                  1       3   \n",
       "\n",
       "   Daytime/evening attendance  Previous qualification  Nacionality  \\\n",
       "0                           1                       1            1   \n",
       "1                           1                       1            1   \n",
       "2                           1                       1            1   \n",
       "3                           1                       1            1   \n",
       "4                           0                       1            1   \n",
       "\n",
       "   Mother's qualification  Father's qualification  Mother's occupation  ...  \\\n",
       "0                      13                      10                    6  ...   \n",
       "1                       1                       3                    4  ...   \n",
       "2                      22                      27                   10  ...   \n",
       "3                      23                      27                    6  ...   \n",
       "4                      22                      28                   10  ...   \n",
       "\n",
       "   Curricular units 2nd sem (credited)  Curricular units 2nd sem (enrolled)  \\\n",
       "0                                    0                                    0   \n",
       "1                                    0                                    6   \n",
       "2                                    0                                    6   \n",
       "3                                    0                                    6   \n",
       "4                                    0                                    6   \n",
       "\n",
       "   Curricular units 2nd sem (evaluations)  \\\n",
       "0                                       0   \n",
       "1                                       6   \n",
       "2                                       0   \n",
       "3                                      10   \n",
       "4                                       6   \n",
       "\n",
       "   Curricular units 2nd sem (approved)  Curricular units 2nd sem (grade)  \\\n",
       "0                                    0                          0.000000   \n",
       "1                                    6                         13.666667   \n",
       "2                                    0                          0.000000   \n",
       "3                                    5                         12.400000   \n",
       "4                                    6                         13.000000   \n",
       "\n",
       "   Curricular units 2nd sem (without evaluations)  Unemployment rate  \\\n",
       "0                                               0               10.8   \n",
       "1                                               0               13.9   \n",
       "2                                               0               10.8   \n",
       "3                                               0                9.4   \n",
       "4                                               0               13.9   \n",
       "\n",
       "   Inflation rate   GDP    Target  \n",
       "0             1.4  1.74   Dropout  \n",
       "1            -0.3  0.79  Graduate  \n",
       "2             1.4  1.74   Dropout  \n",
       "3            -0.8 -3.12  Graduate  \n",
       "4            -0.3  0.79  Graduate  \n",
       "\n",
       "[5 rows x 35 columns]"
      ]
     },
     "execution_count": 1,
     "metadata": {},
     "output_type": "execute_result"
    }
   ],
   "source": [
    "import pandas as pd\n",
    "df = pd.read_csv('dataset.csv')\n",
    "df.head()"
   ]
  },
  {
   "cell_type": "code",
   "execution_count": 2,
   "metadata": {
    "colab": {
     "base_uri": "https://localhost:8080/"
    },
    "id": "yKq3pc_UirfC",
    "outputId": "101318e1-076a-4879-bcc3-001332665e29"
   },
   "outputs": [
    {
     "data": {
      "text/plain": [
       "Index(['Marital status', 'Application mode', 'Application order', 'Course',\n",
       "       'Daytime/evening attendance', 'Previous qualification', 'Nacionality',\n",
       "       'Mother's qualification', 'Father's qualification',\n",
       "       'Mother's occupation', 'Father's occupation', 'Displaced',\n",
       "       'Educational special needs', 'Debtor', 'Tuition fees up to date',\n",
       "       'Gender', 'Scholarship holder', 'Age at enrollment', 'International',\n",
       "       'Curricular units 1st sem (credited)',\n",
       "       'Curricular units 1st sem (enrolled)',\n",
       "       'Curricular units 1st sem (evaluations)',\n",
       "       'Curricular units 1st sem (approved)',\n",
       "       'Curricular units 1st sem (grade)',\n",
       "       'Curricular units 1st sem (without evaluations)',\n",
       "       'Curricular units 2nd sem (credited)',\n",
       "       'Curricular units 2nd sem (enrolled)',\n",
       "       'Curricular units 2nd sem (evaluations)',\n",
       "       'Curricular units 2nd sem (approved)',\n",
       "       'Curricular units 2nd sem (grade)',\n",
       "       'Curricular units 2nd sem (without evaluations)', 'Unemployment rate',\n",
       "       'Inflation rate', 'GDP', 'Target'],\n",
       "      dtype='object')"
      ]
     },
     "execution_count": 2,
     "metadata": {},
     "output_type": "execute_result"
    }
   ],
   "source": [
    "df.columns"
   ]
  },
  {
   "cell_type": "code",
   "execution_count": 3,
   "metadata": {
    "colab": {
     "base_uri": "https://localhost:8080/"
    },
    "id": "ZOXXUrqojWr_",
    "outputId": "175c838c-00fc-4111-b00e-96e6b70d1002"
   },
   "outputs": [
    {
     "name": "stdout",
     "output_type": "stream",
     "text": [
      "<class 'pandas.core.frame.DataFrame'>\n",
      "RangeIndex: 4424 entries, 0 to 4423\n",
      "Data columns (total 35 columns):\n",
      " #   Column                                          Non-Null Count  Dtype  \n",
      "---  ------                                          --------------  -----  \n",
      " 0   Marital status                                  4424 non-null   int64  \n",
      " 1   Application mode                                4424 non-null   int64  \n",
      " 2   Application order                               4424 non-null   int64  \n",
      " 3   Course                                          4424 non-null   int64  \n",
      " 4   Daytime/evening attendance                      4424 non-null   int64  \n",
      " 5   Previous qualification                          4424 non-null   int64  \n",
      " 6   Nacionality                                     4424 non-null   int64  \n",
      " 7   Mother's qualification                          4424 non-null   int64  \n",
      " 8   Father's qualification                          4424 non-null   int64  \n",
      " 9   Mother's occupation                             4424 non-null   int64  \n",
      " 10  Father's occupation                             4424 non-null   int64  \n",
      " 11  Displaced                                       4424 non-null   int64  \n",
      " 12  Educational special needs                       4424 non-null   int64  \n",
      " 13  Debtor                                          4424 non-null   int64  \n",
      " 14  Tuition fees up to date                         4424 non-null   int64  \n",
      " 15  Gender                                          4424 non-null   int64  \n",
      " 16  Scholarship holder                              4424 non-null   int64  \n",
      " 17  Age at enrollment                               4424 non-null   int64  \n",
      " 18  International                                   4424 non-null   int64  \n",
      " 19  Curricular units 1st sem (credited)             4424 non-null   int64  \n",
      " 20  Curricular units 1st sem (enrolled)             4424 non-null   int64  \n",
      " 21  Curricular units 1st sem (evaluations)          4424 non-null   int64  \n",
      " 22  Curricular units 1st sem (approved)             4424 non-null   int64  \n",
      " 23  Curricular units 1st sem (grade)                4424 non-null   float64\n",
      " 24  Curricular units 1st sem (without evaluations)  4424 non-null   int64  \n",
      " 25  Curricular units 2nd sem (credited)             4424 non-null   int64  \n",
      " 26  Curricular units 2nd sem (enrolled)             4424 non-null   int64  \n",
      " 27  Curricular units 2nd sem (evaluations)          4424 non-null   int64  \n",
      " 28  Curricular units 2nd sem (approved)             4424 non-null   int64  \n",
      " 29  Curricular units 2nd sem (grade)                4424 non-null   float64\n",
      " 30  Curricular units 2nd sem (without evaluations)  4424 non-null   int64  \n",
      " 31  Unemployment rate                               4424 non-null   float64\n",
      " 32  Inflation rate                                  4424 non-null   float64\n",
      " 33  GDP                                             4424 non-null   float64\n",
      " 34  Target                                          4424 non-null   object \n",
      "dtypes: float64(5), int64(29), object(1)\n",
      "memory usage: 1.2+ MB\n"
     ]
    }
   ],
   "source": [
    "df.info()"
   ]
  },
  {
   "cell_type": "markdown",
   "metadata": {
    "id": "3K-ukSMejc0y"
   },
   "source": [
    "# Target Variable [LSNS6]"
   ]
  },
  {
   "cell_type": "code",
   "execution_count": null,
   "metadata": {
    "id": "4Iy5qTW0jgxi"
   },
   "outputs": [],
   "source": [
    "df.loc[df['LSNS6'] < 12, 'Label'] = 0\n",
    "df.loc[df['LSNS6'] >= 12, 'Label'] = 1"
   ]
  },
  {
   "cell_type": "code",
   "execution_count": null,
   "metadata": {
    "colab": {
     "base_uri": "https://localhost:8080/"
    },
    "id": "YHNGvnVyjl9S",
    "outputId": "d0c966a6-855b-441f-e6cb-39eeea89f312"
   },
   "outputs": [
    {
     "data": {
      "text/plain": [
       "0.0    6337\n",
       "1.0    4996\n",
       "Name: Label, dtype: int64"
      ]
     },
     "execution_count": 7,
     "metadata": {},
     "output_type": "execute_result"
    }
   ],
   "source": [
    "df[\"Label\"].value_counts()"
   ]
  },
  {
   "cell_type": "markdown",
   "metadata": {
    "id": "tzYyzdqlwzLn"
   },
   "source": [
    "# Explanatory Data Analysis (EDA)"
   ]
  },
  {
   "cell_type": "code",
   "execution_count": null,
   "metadata": {
    "colab": {
     "base_uri": "https://localhost:8080/",
     "height": 316
    },
    "id": "IaRIeserkN2s",
    "outputId": "1b5ef58c-25f5-411e-fdc6-11f12650d799"
   },
   "outputs": [
    {
     "data": {
      "text/plain": [
       "array([[<matplotlib.axes._subplots.AxesSubplot object at 0x7f1347a11b10>]],\n",
       "      dtype=object)"
      ]
     },
     "execution_count": 94,
     "metadata": {},
     "output_type": "execute_result"
    },
    {
     "data": {
      "image/png": "[encoded data removed]",
      "text/plain": [
       "<Figure size 432x288 with 1 Axes>"
      ]
     },
     "metadata": {
      "needs_background": "light"
     },
     "output_type": "display_data"
    }
   ],
   "source": [
    "df.hist(column='Residence', bins=30, rwidth = 0.7, color = 'black')"
   ]
  },
  {
   "cell_type": "code",
   "execution_count": null,
   "metadata": {
    "colab": {
     "base_uri": "https://localhost:8080/",
     "height": 316
    },
    "id": "LOYIY_uLwxu6",
    "outputId": "a724d79a-e0d2-4e3c-945e-d6813fbf57b0"
   },
   "outputs": [
    {
     "data": {
      "text/plain": [
       "array([[<matplotlib.axes._subplots.AxesSubplot object at 0x7f134796d810>]],\n",
       "      dtype=object)"
      ]
     },
     "execution_count": 95,
     "metadata": {},
     "output_type": "execute_result"
    },
    {
     "data": {
      "image/png": "[encoded data removed]",
      "text/plain": [
       "<Figure size 432x288 with 1 Axes>"
      ]
     },
     "metadata": {
      "needs_background": "light"
     },
     "output_type": "display_data"
    }
   ],
   "source": [
    "df.hist(column='Age', bins=30, rwidth = 0.7, color = 'black')"
   ]
  },
  {
   "cell_type": "code",
   "execution_count": null,
   "metadata": {
    "colab": {
     "base_uri": "https://localhost:8080/",
     "height": 316
    },
    "id": "9jfyFE9sw6GG",
    "outputId": "ef1eccdf-2986-4428-e18f-61b52e81a1a2"
   },
   "outputs": [
    {
     "data": {
      "text/plain": [
       "array([[<matplotlib.axes._subplots.AxesSubplot object at 0x7f13479cd510>]],\n",
       "      dtype=object)"
      ]
     },
     "execution_count": 96,
     "metadata": {},
     "output_type": "execute_result"
    },
    {
     "data": {
      "image/png": "[encoded data removed]",
      "text/plain": [
       "<Figure size 432x288 with 1 Axes>"
      ]
     },
     "metadata": {
      "needs_background": "light"
     },
     "output_type": "display_data"
    }
   ],
   "source": [
    "df.hist(column='Age_Group', bins=30, rwidth = 0.7, color = 'black')"
   ]
  },
  {
   "cell_type": "code",
   "execution_count": null,
   "metadata": {
    "colab": {
     "base_uri": "https://localhost:8080/",
     "height": 316
    },
    "id": "SaoWDGc0xRie",
    "outputId": "3281ed56-7242-451e-f17a-9bf20c771171"
   },
   "outputs": [
    {
     "data": {
      "text/plain": [
       "array([[<matplotlib.axes._subplots.AxesSubplot object at 0x7f134777f310>]],\n",
       "      dtype=object)"
      ]
     },
     "execution_count": 97,
     "metadata": {},
     "output_type": "execute_result"
    },
    {
     "data": {
      "image/png": "[encoded data removed]",
      "text/plain": [
       "<Figure size 432x288 with 1 Axes>"
      ]
     },
     "metadata": {
      "needs_background": "light"
     },
     "output_type": "display_data"
    }
   ],
   "source": [
    "df.hist(column='Job_Group', bins=30, rwidth = 0.7, color = 'black')"
   ]
  },
  {
   "cell_type": "code",
   "execution_count": null,
   "metadata": {
    "colab": {
     "base_uri": "https://localhost:8080/",
     "height": 316
    },
    "id": "X2H7CvP4xfmW",
    "outputId": "cbcca77e-cdf5-4423-af08-3cae3ff1bec5"
   },
   "outputs": [
    {
     "data": {
      "text/plain": [
       "array([[<matplotlib.axes._subplots.AxesSubplot object at 0x7f394cbc62d0>]],\n",
       "      dtype=object)"
      ]
     },
     "execution_count": 19,
     "metadata": {},
     "output_type": "execute_result"
    },
    {
     "data": {
      "image/png": "[encoded data removed]",
      "text/plain": [
       "<Figure size 432x288 with 1 Axes>"
      ]
     },
     "metadata": {
      "needs_background": "light"
     },
     "output_type": "display_data"
    }
   ],
   "source": [
    "df.hist(column='Income', bins=30, rwidth = 0.7, color = 'black')"
   ]
  },
  {
   "cell_type": "code",
   "execution_count": null,
   "metadata": {
    "colab": {
     "base_uri": "https://localhost:8080/",
     "height": 316
    },
    "id": "t8K9A-ZExpAA",
    "outputId": "64722191-b651-4f03-bbae-56299783e955"
   },
   "outputs": [
    {
     "data": {
      "text/plain": [
       "array([[<matplotlib.axes._subplots.AxesSubplot object at 0x7f394cb01950>]],\n",
       "      dtype=object)"
      ]
     },
     "execution_count": 20,
     "metadata": {},
     "output_type": "execute_result"
    },
    {
     "data": {
      "image/png": "[encoded data removed]",
      "text/plain": [
       "<Figure size 432x288 with 1 Axes>"
      ]
     },
     "metadata": {
      "needs_background": "light"
     },
     "output_type": "display_data"
    }
   ],
   "source": [
    "df.hist(column='K6', bins=30, rwidth = 0.7, color = 'black')"
   ]
  },
  {
   "cell_type": "code",
   "execution_count": null,
   "metadata": {
    "colab": {
     "base_uri": "https://localhost:8080/",
     "height": 316
    },
    "id": "Xzx2iQqlxts1",
    "outputId": "06a8660e-7a7a-4e8c-918c-e6a650e04041"
   },
   "outputs": [
    {
     "data": {
      "text/plain": [
       "array([[<matplotlib.axes._subplots.AxesSubplot object at 0x7f394cc37590>]],\n",
       "      dtype=object)"
      ]
     },
     "execution_count": 21,
     "metadata": {},
     "output_type": "execute_result"
    },
    {
     "data": {
      "image/png": "[encoded data removed]",
      "text/plain": [
       "<Figure size 432x288 with 1 Axes>"
      ]
     },
     "metadata": {
      "needs_background": "light"
     },
     "output_type": "display_data"
    }
   ],
   "source": [
    "df.hist(column='PHQ9', bins=30, rwidth = 0.7, color = 'black')"
   ]
  },
  {
   "cell_type": "code",
   "execution_count": null,
   "metadata": {
    "colab": {
     "base_uri": "https://localhost:8080/",
     "height": 316
    },
    "id": "kXKL0W2bxwQf",
    "outputId": "a9536c4c-16ec-484e-b6ec-39c4641de513"
   },
   "outputs": [
    {
     "data": {
      "text/plain": [
       "array([[<matplotlib.axes._subplots.AxesSubplot object at 0x7f394ca2dd90>]],\n",
       "      dtype=object)"
      ]
     },
     "execution_count": 22,
     "metadata": {},
     "output_type": "execute_result"
    },
    {
     "data": {
      "image/png": "[encoded data removed]",
      "text/plain": [
       "<Figure size 432x288 with 1 Axes>"
      ]
     },
     "metadata": {
      "needs_background": "light"
     },
     "output_type": "display_data"
    }
   ],
   "source": [
    "df.hist(column='UCLA_LS3', bins=30, rwidth = 0.7, color = 'black')"
   ]
  },
  {
   "cell_type": "code",
   "execution_count": null,
   "metadata": {
    "colab": {
     "base_uri": "https://localhost:8080/",
     "height": 316
    },
    "id": "dbFrzfVvxyTh",
    "outputId": "09ca323d-1390-4541-81f9-3fe2f152ba45"
   },
   "outputs": [
    {
     "data": {
      "text/plain": [
       "array([[<matplotlib.axes._subplots.AxesSubplot object at 0x7f394c8ca510>]],\n",
       "      dtype=object)"
      ]
     },
     "execution_count": 23,
     "metadata": {},
     "output_type": "execute_result"
    },
    {
     "data": {
      "image/png": "[encoded data removed]",
      "text/plain": [
       "<Figure size 432x288 with 1 Axes>"
      ]
     },
     "metadata": {
      "needs_background": "light"
     },
     "output_type": "display_data"
    }
   ],
   "source": [
    "df.hist(column='Exercise', bins=30, rwidth = 0.7, color = 'black')"
   ]
  },
  {
   "cell_type": "code",
   "execution_count": null,
   "metadata": {
    "colab": {
     "base_uri": "https://localhost:8080/",
     "height": 316
    },
    "id": "9QyXGtn8x03p",
    "outputId": "551fb978-236f-4d17-860c-434908527b04"
   },
   "outputs": [
    {
     "data": {
      "text/plain": [
       "array([[<matplotlib.axes._subplots.AxesSubplot object at 0x7f394c8d77d0>]],\n",
       "      dtype=object)"
      ]
     },
     "execution_count": 24,
     "metadata": {},
     "output_type": "execute_result"
    },
    {
     "data": {
      "image/png": "[encoded data removed]",
      "text/plain": [
       "<Figure size 432x288 with 1 Axes>"
      ]
     },
     "metadata": {
      "needs_background": "light"
     },
     "output_type": "display_data"
    }
   ],
   "source": [
    "df.hist(column='Healthy_Diet', bins=30, rwidth = 0.7, color = 'black')"
   ]
  },
  {
   "cell_type": "code",
   "execution_count": null,
   "metadata": {
    "colab": {
     "base_uri": "https://localhost:8080/",
     "height": 316
    },
    "id": "lGa5I4YGyzl_",
    "outputId": "9ef6941c-69ee-4b38-bf80-b2d24d4fae8e"
   },
   "outputs": [
    {
     "data": {
      "text/plain": [
       "array([[<matplotlib.axes._subplots.AxesSubplot object at 0x7f394c771b10>]],\n",
       "      dtype=object)"
      ]
     },
     "execution_count": 25,
     "metadata": {},
     "output_type": "execute_result"
    },
    {
     "data": {
      "image/png": "[encoded data removed]",
      "text/plain": [
       "<Figure size 432x288 with 1 Axes>"
      ]
     },
     "metadata": {
      "needs_background": "light"
     },
     "output_type": "display_data"
    }
   ],
   "source": [
    "df.hist(column='Healthy_Sleep', bins=30, rwidth = 0.7, color = 'black')"
   ]
  },
  {
   "cell_type": "code",
   "execution_count": null,
   "metadata": {
    "colab": {
     "base_uri": "https://localhost:8080/",
     "height": 316
    },
    "id": "_MrMFjwCy1Kr",
    "outputId": "2f011d7e-7b8b-4b77-f554-2248160915aa"
   },
   "outputs": [
    {
     "data": {
      "text/plain": [
       "array([[<matplotlib.axes._subplots.AxesSubplot object at 0x7f394c6afb50>]],\n",
       "      dtype=object)"
      ]
     },
     "execution_count": 26,
     "metadata": {},
     "output_type": "execute_result"
    },
    {
     "data": {
      "image/png": "[encoded data removed]",
      "text/plain": [
       "<Figure size 432x288 with 1 Axes>"
      ]
     },
     "metadata": {
      "needs_background": "light"
     },
     "output_type": "display_data"
    }
   ],
   "source": [
    "df.hist(column='Activity', bins=30, rwidth = 0.7, color = 'black')"
   ]
  },
  {
   "cell_type": "code",
   "execution_count": null,
   "metadata": {
    "colab": {
     "base_uri": "https://localhost:8080/",
     "height": 316
    },
    "id": "UxTGPmfhx09F",
    "outputId": "0f9c4bff-8d6e-4b5e-cacb-9ad8cdd02517"
   },
   "outputs": [
    {
     "data": {
      "text/plain": [
       "array([[<matplotlib.axes._subplots.AxesSubplot object at 0x7f394c58a390>]],\n",
       "      dtype=object)"
      ]
     },
     "execution_count": 27,
     "metadata": {},
     "output_type": "execute_result"
    },
    {
     "data": {
      "image/png": "[encoded data removed]",
      "text/plain": [
       "<Figure size 432x288 with 1 Axes>"
      ]
     },
     "metadata": {
      "needs_background": "light"
     },
     "output_type": "display_data"
    }
   ],
   "source": [
    "df.hist(column='Interaction_Offline', bins=30, rwidth = 0.7, color = 'black')"
   ]
  },
  {
   "cell_type": "code",
   "execution_count": null,
   "metadata": {
    "colab": {
     "base_uri": "https://localhost:8080/",
     "height": 316
    },
    "id": "CFf9hxafy4Qk",
    "outputId": "e508a395-a74b-419e-a721-259c5900bf32"
   },
   "outputs": [
    {
     "data": {
      "text/plain": [
       "array([[<matplotlib.axes._subplots.AxesSubplot object at 0x7f394cd2cad0>]],\n",
       "      dtype=object)"
      ]
     },
     "execution_count": 28,
     "metadata": {},
     "output_type": "execute_result"
    },
    {
     "data": {
      "image/png": "[encoded data removed]",
      "text/plain": [
       "<Figure size 432x288 with 1 Axes>"
      ]
     },
     "metadata": {
      "needs_background": "light"
     },
     "output_type": "display_data"
    }
   ],
   "source": [
    "df.hist(column='Interaction_Online', bins=30, rwidth = 0.7, color = 'black')"
   ]
  },
  {
   "cell_type": "code",
   "execution_count": null,
   "metadata": {
    "colab": {
     "base_uri": "https://localhost:8080/",
     "height": 316
    },
    "id": "elxz8eoSy6C_",
    "outputId": "86e57122-7deb-4781-9b15-63f0c7398e3f"
   },
   "outputs": [
    {
     "data": {
      "text/plain": [
       "array([[<matplotlib.axes._subplots.AxesSubplot object at 0x7f394c9d30d0>]],\n",
       "      dtype=object)"
      ]
     },
     "execution_count": 29,
     "metadata": {},
     "output_type": "execute_result"
    },
    {
     "data": {
      "image/png": "[encoded data removed]",
      "text/plain": [
       "<Figure size 432x288 with 1 Axes>"
      ]
     },
     "metadata": {
      "needs_background": "light"
     },
     "output_type": "display_data"
    }
   ],
   "source": [
    "df.hist(column='Optimism', bins=30, rwidth = 0.7, color = 'black')"
   ]
  },
  {
   "cell_type": "code",
   "execution_count": null,
   "metadata": {
    "colab": {
     "base_uri": "https://localhost:8080/",
     "height": 316
    },
    "id": "LfSIyIFfy7fC",
    "outputId": "d4ba09ab-5267-4561-cece-a85e38f49b98"
   },
   "outputs": [
    {
     "data": {
      "text/plain": [
       "array([[<matplotlib.axes._subplots.AxesSubplot object at 0x7f394c467e10>]],\n",
       "      dtype=object)"
      ]
     },
     "execution_count": 30,
     "metadata": {},
     "output_type": "execute_result"
    },
    {
     "data": {
      "image/png": "[encoded data removed]",
      "text/plain": [
       "<Figure size 432x288 with 1 Axes>"
      ]
     },
     "metadata": {
      "needs_background": "light"
     },
     "output_type": "display_data"
    }
   ],
   "source": [
    "df.hist(column='Deterioration_Economy', bins=30, rwidth = 0.7, color = 'black')"
   ]
  },
  {
   "cell_type": "code",
   "execution_count": null,
   "metadata": {
    "colab": {
     "base_uri": "https://localhost:8080/",
     "height": 316
    },
    "id": "LaEAZ7mly9Qa",
    "outputId": "1d20378e-bb01-4124-f665-d7ea8e996517"
   },
   "outputs": [
    {
     "data": {
      "text/plain": [
       "array([[<matplotlib.axes._subplots.AxesSubplot object at 0x7f394c3ab450>]],\n",
       "      dtype=object)"
      ]
     },
     "execution_count": 31,
     "metadata": {},
     "output_type": "execute_result"
    },
    {
     "data": {
      "image/png": "[encoded data removed]",
      "text/plain": [
       "<Figure size 432x288 with 1 Axes>"
      ]
     },
     "metadata": {
      "needs_background": "light"
     },
     "output_type": "display_data"
    }
   ],
   "source": [
    "df.hist(column='Deterioration_Interact', bins=30, rwidth = 0.7, color = 'black')"
   ]
  },
  {
   "cell_type": "code",
   "execution_count": null,
   "metadata": {
    "colab": {
     "base_uri": "https://localhost:8080/",
     "height": 316
    },
    "id": "8w8Tvbn5y-li",
    "outputId": "7480c378-d23c-4d16-b2a4-84166044b7f1"
   },
   "outputs": [
    {
     "data": {
      "text/plain": [
       "array([[<matplotlib.axes._subplots.AxesSubplot object at 0x7f134709ec90>]],\n",
       "      dtype=object)"
      ]
     },
     "execution_count": 111,
     "metadata": {},
     "output_type": "execute_result"
    },
    {
     "data": {
      "image/png": "[encoded data removed]",
      "text/plain": [
       "<Figure size 432x288 with 1 Axes>"
      ]
     },
     "metadata": {
      "needs_background": "light"
     },
     "output_type": "display_data"
    }
   ],
   "source": [
    "df.hist(column='Frustration', bins=30, rwidth = 0.7, color = 'black')"
   ]
  },
  {
   "cell_type": "code",
   "execution_count": null,
   "metadata": {
    "colab": {
     "base_uri": "https://localhost:8080/",
     "height": 316
    },
    "id": "4_EfA9g8zAFz",
    "outputId": "7a2912ec-b1db-44f2-adf3-34b74664d267"
   },
   "outputs": [
    {
     "data": {
      "text/plain": [
       "array([[<matplotlib.axes._subplots.AxesSubplot object at 0x7f1347002e50>]],\n",
       "      dtype=object)"
      ]
     },
     "execution_count": 112,
     "metadata": {},
     "output_type": "execute_result"
    },
    {
     "data": {
      "image/png": "[encoded data removed]",
      "text/plain": [
       "<Figure size 432x288 with 1 Axes>"
      ]
     },
     "metadata": {
      "needs_background": "light"
     },
     "output_type": "display_data"
    }
   ],
   "source": [
    "df.hist(column='Covid_Anxiety', bins=30, rwidth = 0.7, color = 'black')"
   ]
  },
  {
   "cell_type": "code",
   "execution_count": null,
   "metadata": {
    "colab": {
     "base_uri": "https://localhost:8080/",
     "height": 316
    },
    "id": "FsQQp6XbzB_1",
    "outputId": "3219be4b-56a8-40bf-ce7e-b961f6f86f71"
   },
   "outputs": [
    {
     "data": {
      "text/plain": [
       "array([[<matplotlib.axes._subplots.AxesSubplot object at 0x7f1346f86690>]],\n",
       "      dtype=object)"
      ]
     },
     "execution_count": 113,
     "metadata": {},
     "output_type": "execute_result"
    },
    {
     "data": {
      "image/png": "[encoded data removed]",
      "text/plain": [
       "<Figure size 432x288 with 1 Axes>"
      ]
     },
     "metadata": {
      "needs_background": "light"
     },
     "output_type": "display_data"
    }
   ],
   "source": [
    "df.hist(column='Covid_Sleepless', bins=30, rwidth = 0.7, color = 'black')"
   ]
  },
  {
   "cell_type": "code",
   "execution_count": null,
   "metadata": {
    "colab": {
     "base_uri": "https://localhost:8080/",
     "height": 316
    },
    "id": "eJeX-4pJzDWd",
    "outputId": "0a815017-bb87-4c66-f750-14a1f8cc3859"
   },
   "outputs": [
    {
     "data": {
      "text/plain": [
       "array([[<matplotlib.axes._subplots.AxesSubplot object at 0x7f1346e41750>]],\n",
       "      dtype=object)"
      ]
     },
     "execution_count": 114,
     "metadata": {},
     "output_type": "execute_result"
    },
    {
     "data": {
      "image/png": "[encoded data removed]",
      "text/plain": [
       "<Figure size 432x288 with 1 Axes>"
      ]
     },
     "metadata": {
      "needs_background": "light"
     },
     "output_type": "display_data"
    }
   ],
   "source": [
    "df.hist(column='Difficulty_Living', bins=30, rwidth = 0.7, color = 'black')"
   ]
  },
  {
   "cell_type": "code",
   "execution_count": null,
   "metadata": {
    "colab": {
     "base_uri": "https://localhost:8080/",
     "height": 316
    },
    "id": "AppDXWjBzE1h",
    "outputId": "2d24d520-8178-4e60-fdf4-abb2a2d89b2b"
   },
   "outputs": [
    {
     "data": {
      "text/plain": [
       "array([[<matplotlib.axes._subplots.AxesSubplot object at 0x7f1346d54750>]],\n",
       "      dtype=object)"
      ]
     },
     "execution_count": 115,
     "metadata": {},
     "output_type": "execute_result"
    },
    {
     "data": {
      "image/png": "[encoded data removed]",
      "text/plain": [
       "<Figure size 432x288 with 1 Axes>"
      ]
     },
     "metadata": {
      "needs_background": "light"
     },
     "output_type": "display_data"
    }
   ],
   "source": [
    "df.hist(column='Difficulty_Work', bins=30, rwidth = 0.7, color = 'black')"
   ]
  },
  {
   "cell_type": "code",
   "execution_count": null,
   "metadata": {
    "colab": {
     "base_uri": "https://localhost:8080/",
     "height": 316
    },
    "id": "sJPKHYG8b-nE",
    "outputId": "a80bd862-8a1d-4831-c044-f577ff125080"
   },
   "outputs": [
    {
     "data": {
      "text/plain": [
       "array([[<matplotlib.axes._subplots.AxesSubplot object at 0x7f394c1d2a50>]],\n",
       "      dtype=object)"
      ]
     },
     "execution_count": 32,
     "metadata": {},
     "output_type": "execute_result"
    },
    {
     "data": {
      "image/png": "[encoded data removed]",
      "text/plain": [
       "<Figure size 432x288 with 1 Axes>"
      ]
     },
     "metadata": {
      "needs_background": "light"
     },
     "output_type": "display_data"
    }
   ],
   "source": [
    "df.hist(column='Preventive_Behaviors', bins=30, rwidth = 0.7, color = 'black')"
   ]
  },
  {
   "cell_type": "code",
   "execution_count": null,
   "metadata": {
    "colab": {
     "base_uri": "https://localhost:8080/",
     "height": 316
    },
    "id": "UGgwtKYmcMG5",
    "outputId": "0d37ddb3-7d13-4491-837c-9a7a3eae84e4"
   },
   "outputs": [
    {
     "data": {
      "text/plain": [
       "array([[<matplotlib.axes._subplots.AxesSubplot object at 0x7f394c1d0c90>]],\n",
       "      dtype=object)"
      ]
     },
     "execution_count": 33,
     "metadata": {},
     "output_type": "execute_result"
    },
    {
     "data": {
      "image/png": "[encoded data removed]",
      "text/plain": [
       "<Figure size 432x288 with 1 Axes>"
      ]
     },
     "metadata": {
      "needs_background": "light"
     },
     "output_type": "display_data"
    }
   ],
   "source": [
    "df.hist(column='Married', bins=30, rwidth = 0.7, color = 'black')"
   ]
  },
  {
   "cell_type": "code",
   "execution_count": null,
   "metadata": {
    "colab": {
     "base_uri": "https://localhost:8080/",
     "height": 316
    },
    "id": "gLijV3rCk-n7",
    "outputId": "3b042179-9164-452e-a8c7-93f760644a2b"
   },
   "outputs": [
    {
     "data": {
      "text/plain": [
       "array([[<matplotlib.axes._subplots.AxesSubplot object at 0x7f7423bad090>]],\n",
       "      dtype=object)"
      ]
     },
     "execution_count": 8,
     "metadata": {},
     "output_type": "execute_result"
    },
    {
     "data": {
      "image/png": "[encoded data removed]",
      "text/plain": [
       "<Figure size 432x288 with 1 Axes>"
      ]
     },
     "metadata": {
      "needs_background": "light"
     },
     "output_type": "display_data"
    }
   ],
   "source": [
    "df.hist(column='LSNS6', bins=30, rwidth = 0.7, color = 'black')"
   ]
  },
  {
   "cell_type": "code",
   "execution_count": null,
   "metadata": {
    "id": "NzrqlGY2k-sj"
   },
   "outputs": [],
   "source": []
  },
  {
   "cell_type": "markdown",
   "metadata": {
    "id": "OPcz_jJyzIC1"
   },
   "source": [
    "# Corelation Matrix"
   ]
  },
  {
   "cell_type": "code",
   "execution_count": null,
   "metadata": {
    "colab": {
     "base_uri": "https://localhost:8080/"
    },
    "id": "rsfId7DgzK7W",
    "outputId": "a8e5b68d-40a5-4c34-dfbd-4e722c20ae3e"
   },
   "outputs": [
    {
     "data": {
      "text/plain": [
       "LSNS6                     1.000000\n",
       "Label                     0.825586\n",
       "Optimism                  0.354421\n",
       "Interaction_Online        0.353542\n",
       "Healthy_Diet              0.269312\n",
       "Interaction_Offline       0.269055\n",
       "Preventive_Behaviors      0.260502\n",
       "Exercise                  0.258642\n",
       "Activity                  0.248620\n",
       "Healthy_Sleep             0.186673\n",
       "Married                   0.166941\n",
       "ID                        0.140221\n",
       "Sex                       0.140105\n",
       "Income                    0.090109\n",
       "Current_Mental            0.084682\n",
       "Past_Mental               0.077367\n",
       "Difficulty_Work           0.062625\n",
       "Age_Group                 0.050452\n",
       "Covid_Anxiety             0.045612\n",
       "Residence                 0.028329\n",
       "Current_Physical          0.021280\n",
       "Past_Physical             0.004667\n",
       "Difficulty_Living        -0.000386\n",
       "Job_Group                -0.027992\n",
       "Health_Worker_Self       -0.028114\n",
       "Deterioration_Economy    -0.035277\n",
       "Covid_Sleepless          -0.058686\n",
       "Age                      -0.061518\n",
       "Frustration              -0.073629\n",
       "Health_Worker_Family     -0.074530\n",
       "Deterioration_Interact   -0.148120\n",
       "K6                       -0.182472\n",
       "PHQ9                     -0.202909\n",
       "UCLA_LS3                 -0.569604\n",
       "Name: LSNS6, dtype: float64"
      ]
     },
     "execution_count": 8,
     "metadata": {},
     "output_type": "execute_result"
    }
   ],
   "source": [
    "corr_matrix = df.corr()\n",
    "corr_matrix[\"LSNS6\"].sort_values(ascending=False)"
   ]
  },
  {
   "cell_type": "code",
   "execution_count": null,
   "metadata": {
    "id": "Gc0rHWYiSlgJ"
   },
   "outputs": [],
   "source": [
    "df.drop(['LSNS6'], axis=1, inplace=True)"
   ]
  },
  {
   "cell_type": "code",
   "execution_count": null,
   "metadata": {
    "id": "mU6y07U1SZ8-"
   },
   "outputs": [],
   "source": [
    "df.drop(['ID'], axis=1, inplace=True)"
   ]
  },
  {
   "cell_type": "code",
   "execution_count": null,
   "metadata": {
    "colab": {
     "base_uri": "https://localhost:8080/"
    },
    "id": "FqJHOKxKSxuF",
    "outputId": "f530a518-d471-4b77-914d-f62e6a2e09c3"
   },
   "outputs": [
    {
     "name": "stdout",
     "output_type": "stream",
     "text": [
      "<class 'pandas.core.frame.DataFrame'>\n",
      "RangeIndex: 11333 entries, 0 to 11332\n",
      "Data columns (total 32 columns):\n",
      " #   Column                  Non-Null Count  Dtype  \n",
      "---  ------                  --------------  -----  \n",
      " 0   Residence               11333 non-null  int64  \n",
      " 1   Sex                     11333 non-null  int64  \n",
      " 2   Age                     11333 non-null  int64  \n",
      " 3   Age_Group               11333 non-null  int64  \n",
      " 4   Job_Group               11333 non-null  int64  \n",
      " 5   Health_Worker_Self      11333 non-null  int64  \n",
      " 6   Health_Worker_Family    11333 non-null  int64  \n",
      " 7   Married                 11333 non-null  int64  \n",
      " 8   Income                  11333 non-null  float64\n",
      " 9   Current_Physical        11333 non-null  int64  \n",
      " 10  Past_Physical           11333 non-null  int64  \n",
      " 11  Current_Mental          11333 non-null  int64  \n",
      " 12  Past_Mental             11333 non-null  int64  \n",
      " 13  K6                      11333 non-null  int64  \n",
      " 14  PHQ9                    11333 non-null  int64  \n",
      " 15  UCLA_LS3                11333 non-null  int64  \n",
      " 16  Exercise                11333 non-null  int64  \n",
      " 17  Healthy_Diet            11333 non-null  int64  \n",
      " 18  Healthy_Sleep           11333 non-null  int64  \n",
      " 19  Activity                11333 non-null  int64  \n",
      " 20  Interaction_Offline     11333 non-null  int64  \n",
      " 21  Interaction_Online      11333 non-null  int64  \n",
      " 22  Preventive_Behaviors    11333 non-null  int64  \n",
      " 23  Optimism                11333 non-null  int64  \n",
      " 24  Deterioration_Economy   11333 non-null  int64  \n",
      " 25  Deterioration_Interact  11333 non-null  int64  \n",
      " 26  Frustration             11333 non-null  int64  \n",
      " 27  Covid_Anxiety           11333 non-null  int64  \n",
      " 28  Covid_Sleepless         11333 non-null  int64  \n",
      " 29  Difficulty_Living       11333 non-null  int64  \n",
      " 30  Difficulty_Work         11333 non-null  int64  \n",
      " 31  Label                   11333 non-null  float64\n",
      "dtypes: float64(2), int64(30)\n",
      "memory usage: 2.8 MB\n"
     ]
    }
   ],
   "source": [
    "df.info()"
   ]
  },
  {
   "cell_type": "code",
   "execution_count": null,
   "metadata": {
    "id": "gFa5OiXTUvNB"
   },
   "outputs": [],
   "source": [
    "df.describe()"
   ]
  },
  {
   "cell_type": "markdown",
   "metadata": {
    "id": "usZcqU_fzgRX"
   },
   "source": [
    "# Scaling features"
   ]
  },
  {
   "cell_type": "code",
   "execution_count": null,
   "metadata": {
    "id": "zGBcoXxwFbPM"
   },
   "outputs": [],
   "source": [
    "from sklearn.preprocessing import StandardScaler\n",
    "from sklearn.preprocessing import MinMaxScaler"
   ]
  },
  {
   "cell_type": "code",
   "execution_count": null,
   "metadata": {
    "id": "lrOERdn9GiWM"
   },
   "outputs": [],
   "source": [
    "stc = StandardScaler()\n",
    "mms = MinMaxScaler()\n"
   ]
  },
  {
   "cell_type": "markdown",
   "metadata": {
    "id": "KCU2YdyfeEik"
   },
   "source": [
    "## Standard scaling on Normally Distributed Data Columns"
   ]
  },
  {
   "cell_type": "code",
   "execution_count": null,
   "metadata": {
    "id": "J0h2SgIGeHgw"
   },
   "outputs": [],
   "source": [
    "df[['Optimism','Healthy_Diet', 'Activity', 'UCLA_LS3']] = stc.fit_transform(df[['Optimism', 'Healthy_Diet', 'Activity', 'UCLA_LS3']])"
   ]
  },
  {
   "cell_type": "markdown",
   "metadata": {
    "id": "-xMr8n2Yf254"
   },
   "source": [
    "## MinMax scaling on other Data Columns"
   ]
  },
  {
   "cell_type": "code",
   "execution_count": null,
   "metadata": {
    "id": "1DBXmpPCgCju"
   },
   "outputs": [],
   "source": [
    "df[['Interaction_Online','Interaction_Offline', 'Preventive_Behaviors', 'Exercise', 'Healthy_Sleep', 'Income', 'Deterioration_Interact', 'K6', 'PHQ9']] = mms.fit_transform(df[['Interaction_Online','Interaction_Offline', 'Preventive_Behaviors', 'Exercise', 'Healthy_Sleep', 'Income', 'Deterioration_Interact', 'K6', 'PHQ9']])"
   ]
  },
  {
   "cell_type": "markdown",
   "metadata": {
    "id": "lGVPLjcqsMjR"
   },
   "source": [
    "# Parameters"
   ]
  },
  {
   "cell_type": "code",
   "execution_count": null,
   "metadata": {
    "id": "_vy4OKuUc1IY"
   },
   "outputs": [],
   "source": [
    "X = df.drop([\"Age\", \"Difficulty_Living\",\"Age_Group\", \"Residence\", \"Label\", \"Past_Mental\", \"Past_Physical\", \"Current_Mental\", \"Difficulty_Work\", \"Covid_Anxiety\", \"Current_Physical\", \"Job_Group\", \"Health_Worker_Self\", \"Health_Worker_Family\", \"Deterioration_Economy\", \"Covid_Sleepless\", \"Frustration\"], axis = 1)\n",
    "y = df[\"Label\"]"
   ]
  },
  {
   "cell_type": "code",
   "execution_count": null,
   "metadata": {
    "colab": {
     "base_uri": "https://localhost:8080/"
    },
    "id": "HCFiU99LZLAl",
    "outputId": "427623f5-4d6d-4280-c792-6d61da91a92c"
   },
   "outputs": [
    {
     "data": {
      "text/plain": [
       "<bound method DataFrame.info of        Sex  Married    Income        K6      PHQ9  UCLA_LS3  Exercise  \\\n",
       "0        1        2  0.111111  0.250000  0.370370  0.621254  0.166667   \n",
       "1        1        2  0.333333  0.416667  0.222222  0.270326  0.500000   \n",
       "2        1        2  0.222222  0.333333  0.185185  1.147646  0.166667   \n",
       "3        1        2  0.333333  0.041667  0.185185  0.445790  1.000000   \n",
       "4        1        2  0.333333  0.125000  0.296296  0.445790  0.000000   \n",
       "...    ...      ...       ...       ...       ...       ...       ...   \n",
       "11328    1        1  0.222222  0.375000  0.074074  0.445790  0.500000   \n",
       "11329    2        1  0.222222  0.500000  0.407407  0.796718  0.000000   \n",
       "11330    1        2  0.222222  0.458333  0.259259 -0.957922  1.000000   \n",
       "11331    2        1  0.222222  0.125000  0.185185 -0.256066  0.333333   \n",
       "11332    2        1  0.222222  0.000000  0.037037  0.621254  0.833333   \n",
       "\n",
       "       Healthy_Diet  Healthy_Sleep  Activity  Interaction_Offline  \\\n",
       "0         -1.502050       0.333333 -1.209298             0.166667   \n",
       "1         -0.216539       0.500000 -0.014704             0.500000   \n",
       "2         -1.502050       0.500000 -1.209298             0.166667   \n",
       "3         -0.216539       1.000000 -0.612001             0.000000   \n",
       "4          1.068971       0.500000 -0.014704             0.666667   \n",
       "...             ...            ...       ...                  ...   \n",
       "11328      0.426216       1.000000  0.582592             0.000000   \n",
       "11329      0.426216       0.333333  0.582592             0.000000   \n",
       "11330      1.711727       1.000000  0.582592             0.666667   \n",
       "11331     -0.859295       0.333333 -0.612001             0.166667   \n",
       "11332      1.068971       0.666667  1.179889             0.333333   \n",
       "\n",
       "       Interaction_Online  Preventive_Behaviors  Optimism  \\\n",
       "0                0.166667              1.000000 -0.035590   \n",
       "1                0.333333              0.500000 -0.035590   \n",
       "2                0.000000              1.000000 -1.307978   \n",
       "3                0.000000              1.000000 -0.035590   \n",
       "4                0.666667              0.666667 -0.035590   \n",
       "...                   ...                   ...       ...   \n",
       "11328            0.000000              1.000000  1.872990   \n",
       "11329            0.166667              0.666667 -0.035590   \n",
       "11330            0.000000              1.000000 -0.035590   \n",
       "11331            0.666667              0.666667  0.600603   \n",
       "11332            0.666667              0.666667  0.600603   \n",
       "\n",
       "       Deterioration_Interact  \n",
       "0                    0.333333  \n",
       "1                    0.500000  \n",
       "2                    0.333333  \n",
       "3                    0.000000  \n",
       "4                    0.666667  \n",
       "...                       ...  \n",
       "11328                0.000000  \n",
       "11329                0.500000  \n",
       "11330                0.000000  \n",
       "11331                0.166667  \n",
       "11332                0.166667  \n",
       "\n",
       "[11333 rows x 15 columns]>"
      ]
     },
     "execution_count": 17,
     "metadata": {},
     "output_type": "execute_result"
    }
   ],
   "source": [
    "X.info"
   ]
  },
  {
   "cell_type": "code",
   "execution_count": null,
   "metadata": {
    "colab": {
     "base_uri": "https://localhost:8080/"
    },
    "id": "nB9fK1lpZVYX",
    "outputId": "0da52ab4-49fc-4a07-d9db-5566379b4926"
   },
   "outputs": [
    {
     "data": {
      "text/plain": [
       "0        0.0\n",
       "1        1.0\n",
       "2        0.0\n",
       "3        0.0\n",
       "4        0.0\n",
       "        ... \n",
       "11328    0.0\n",
       "11329    0.0\n",
       "11330    1.0\n",
       "11331    1.0\n",
       "11332    0.0\n",
       "Name: Label, Length: 11333, dtype: float64"
      ]
     },
     "execution_count": 19,
     "metadata": {},
     "output_type": "execute_result"
    }
   ],
   "source": [
    "y"
   ]
  },
  {
   "cell_type": "markdown",
   "metadata": {
    "id": "PQzTdfI3cyE8"
   },
   "source": [
    "# Training "
   ]
  },
  {
   "cell_type": "code",
   "execution_count": null,
   "metadata": {
    "id": "pHzJ0uWrc27-"
   },
   "outputs": [],
   "source": [
    "from sklearn.model_selection import train_test_split\n",
    "X_train, X_test, y_train, y_test = train_test_split(X, y, test_size = 0.20, \n",
    "                                                    random_state = 42)"
   ]
  },
  {
   "cell_type": "markdown",
   "metadata": {
    "id": "J4eAWWrAaBkT"
   },
   "source": [
    "# Metrics for ML models evaluation"
   ]
  },
  {
   "cell_type": "code",
   "execution_count": null,
   "metadata": {
    "id": "62HjYZnLaAlm"
   },
   "outputs": [],
   "source": [
    "from sklearn.metrics import mean_squared_error, mean_absolute_error, plot_confusion_matrix, classification_report\n",
    "import matplotlib.pyplot as plt\n",
    "from sklearn.metrics import accuracy_score"
   ]
  },
  {
   "cell_type": "markdown",
   "metadata": {
    "id": "AxmauraVc_RC"
   },
   "source": [
    "# Logistic Regression"
   ]
  },
  {
   "cell_type": "code",
   "execution_count": null,
   "metadata": {
    "id": "DVwosW0ydGfB"
   },
   "outputs": [],
   "source": [
    "from sklearn.linear_model import LogisticRegression"
   ]
  },
  {
   "cell_type": "code",
   "execution_count": null,
   "metadata": {
    "id": "rNmKUwYJdDQc"
   },
   "outputs": [],
   "source": [
    "logmodel = LogisticRegression(random_state = 42, max_iter = 1000)"
   ]
  },
  {
   "cell_type": "code",
   "execution_count": null,
   "metadata": {
    "colab": {
     "base_uri": "https://localhost:8080/"
    },
    "id": "pLIKUqLmdFuk",
    "outputId": "628657cb-9624-4c71-972f-433c971f26fa"
   },
   "outputs": [
    {
     "data": {
      "text/plain": [
       "LogisticRegression(max_iter=1000, random_state=42)"
      ]
     },
     "execution_count": 23,
     "metadata": {},
     "output_type": "execute_result"
    }
   ],
   "source": [
    "logmodel.fit(X_train,y_train)"
   ]
  },
  {
   "cell_type": "code",
   "execution_count": null,
   "metadata": {
    "colab": {
     "base_uri": "https://localhost:8080/"
    },
    "id": "cVKFVSWEdOzC",
    "outputId": "b2a0ca3c-de9d-4440-9659-07b1df4c9210"
   },
   "outputs": [
    {
     "name": "stdout",
     "output_type": "stream",
     "text": [
      "Training Accuracy for Logistic Regression =  73.34 %\n"
     ]
    }
   ],
   "source": [
    "log_train_score = logmodel.score(X_train,y_train)*100\n",
    "print(f'Training Accuracy for Logistic Regression = ', round(log_train_score, 2), '%')"
   ]
  },
  {
   "cell_type": "code",
   "execution_count": null,
   "metadata": {
    "id": "WOYvW6KvdTFt"
   },
   "outputs": [],
   "source": [
    "y_pred_log = logmodel.predict(X_test)"
   ]
  },
  {
   "cell_type": "code",
   "execution_count": null,
   "metadata": {
    "id": "HKl8PQXAdebn"
   },
   "outputs": [],
   "source": [
    "from sklearn import metrics"
   ]
  },
  {
   "cell_type": "code",
   "execution_count": null,
   "metadata": {
    "colab": {
     "base_uri": "https://localhost:8080/",
     "height": 525
    },
    "id": "pUupUTJHdVui",
    "outputId": "b8237e37-5481-4ded-ccc1-0e8f9717471f"
   },
   "outputs": [
    {
     "name": "stdout",
     "output_type": "stream",
     "text": [
      "Testing Accuracy for Logistic Regression=  73.58 %\n",
      "Confusion matrix for logistic regression: \n"
     ]
    },
    {
     "name": "stderr",
     "output_type": "stream",
     "text": [
      "/usr/local/lib/python3.7/dist-packages/sklearn/utils/deprecation.py:87: FutureWarning: Function plot_confusion_matrix is deprecated; Function `plot_confusion_matrix` is deprecated in 1.0 and will be removed in 1.2. Use one of the class methods: ConfusionMatrixDisplay.from_predictions or ConfusionMatrixDisplay.from_estimator.\n",
      "  warnings.warn(msg, category=FutureWarning)\n"
     ]
    },
    {
     "data": {
      "image/png": "[encoded data removed]",
      "text/plain": [
       "<Figure size 432x288 with 2 Axes>"
      ]
     },
     "metadata": {
      "needs_background": "light"
     },
     "output_type": "display_data"
    },
    {
     "name": "stdout",
     "output_type": "stream",
     "text": [
      "              precision    recall  f1-score   support\n",
      "\n",
      "         0.0       0.74      0.81      0.77      1264\n",
      "         1.0       0.73      0.64      0.68      1003\n",
      "\n",
      "    accuracy                           0.74      2267\n",
      "   macro avg       0.74      0.73      0.73      2267\n",
      "weighted avg       0.74      0.74      0.73      2267\n",
      "\n"
     ]
    }
   ],
   "source": [
    "log_sc = (metrics.accuracy_score(y_test, y_pred_log)*100)\n",
    "print(\"Testing Accuracy for Logistic Regression= \", round(log_sc, 2), \"%\")\n",
    "\n",
    "print(\"Confusion matrix for logistic regression: \")\n",
    "plot_confusion_matrix(logmodel, X_test, y_test)  \n",
    "plt.show()\n",
    "print(classification_report(y_test, y_pred_log))"
   ]
  },
  {
   "cell_type": "markdown",
   "metadata": {
    "id": "jpYgncPVdold"
   },
   "source": [
    "# KNN"
   ]
  },
  {
   "cell_type": "code",
   "execution_count": null,
   "metadata": {
    "id": "aWQaW8r7dqCe"
   },
   "outputs": [],
   "source": [
    "from sklearn.neighbors import KNeighborsClassifier"
   ]
  },
  {
   "cell_type": "code",
   "execution_count": null,
   "metadata": {
    "id": "xnmgso_cdraA"
   },
   "outputs": [],
   "source": [
    "knn_model = KNeighborsClassifier(n_neighbors=16)"
   ]
  },
  {
   "cell_type": "code",
   "execution_count": null,
   "metadata": {
    "colab": {
     "base_uri": "https://localhost:8080/"
    },
    "id": "2SRwcgM9dtH2",
    "outputId": "d81aa3b7-0840-4eae-c3b1-d7a9a6973183"
   },
   "outputs": [
    {
     "data": {
      "text/plain": [
       "KNeighborsClassifier(n_neighbors=16)"
      ]
     },
     "execution_count": 35,
     "metadata": {},
     "output_type": "execute_result"
    }
   ],
   "source": [
    "knn_model.fit(X_train, y_train)"
   ]
  },
  {
   "cell_type": "code",
   "execution_count": null,
   "metadata": {
    "colab": {
     "base_uri": "https://localhost:8080/"
    },
    "id": "eKYxP7LLdv-M",
    "outputId": "cf90faa0-601c-4d5c-9379-753f3e747bdb"
   },
   "outputs": [
    {
     "name": "stdout",
     "output_type": "stream",
     "text": [
      "Training Accuracy for KNN Classifier =  73.99 %\n"
     ]
    }
   ],
   "source": [
    "knn_train_score = knn_model.score(X_train,y_train)*100\n",
    "print(f'Training Accuracy for KNN Classifier = ', round(knn_train_score, 2), '%')"
   ]
  },
  {
   "cell_type": "code",
   "execution_count": null,
   "metadata": {
    "colab": {
     "base_uri": "https://localhost:8080/",
     "height": 525
    },
    "id": "nkit-FeDd4My",
    "outputId": "3cb71a8c-966e-4ced-b8df-3ead5f345b97"
   },
   "outputs": [
    {
     "name": "stdout",
     "output_type": "stream",
     "text": [
      "Testing Accuracy for KNN model =  71.59 %\n",
      "Confusion matrix for KNN classifier: \n"
     ]
    },
    {
     "name": "stderr",
     "output_type": "stream",
     "text": [
      "/usr/local/lib/python3.7/dist-packages/sklearn/utils/deprecation.py:87: FutureWarning: Function plot_confusion_matrix is deprecated; Function `plot_confusion_matrix` is deprecated in 1.0 and will be removed in 1.2. Use one of the class methods: ConfusionMatrixDisplay.from_predictions or ConfusionMatrixDisplay.from_estimator.\n",
      "  warnings.warn(msg, category=FutureWarning)\n"
     ]
    },
    {
     "data": {
      "image/png": "[encoded data removed]",
      "text/plain": [
       "<Figure size 432x288 with 2 Axes>"
      ]
     },
     "metadata": {
      "needs_background": "light"
     },
     "output_type": "display_data"
    },
    {
     "name": "stdout",
     "output_type": "stream",
     "text": [
      "              precision    recall  f1-score   support\n",
      "\n",
      "         0.0       0.72      0.81      0.76      1264\n",
      "         1.0       0.71      0.60      0.65      1003\n",
      "\n",
      "    accuracy                           0.72      2267\n",
      "   macro avg       0.72      0.70      0.71      2267\n",
      "weighted avg       0.72      0.72      0.71      2267\n",
      "\n"
     ]
    }
   ],
   "source": [
    "y_pred_knn = knn_model.predict(X_test)\n",
    "knn_sc = (metrics.accuracy_score(y_test, y_pred_knn)*100)\n",
    "print(\"Testing Accuracy for KNN model = \", round(knn_sc, 2), \"%\")\n",
    "\n",
    "print(\"Confusion matrix for KNN classifier: \")\n",
    "plot_confusion_matrix(knn_model, X_test, y_test)  \n",
    "plt.show()\n",
    "print(classification_report(y_test, y_pred_knn))"
   ]
  },
  {
   "cell_type": "markdown",
   "metadata": {
    "id": "wP9NxCMEeEqx"
   },
   "source": [
    "# Decision Tree"
   ]
  },
  {
   "cell_type": "code",
   "execution_count": null,
   "metadata": {
    "id": "UoG1AGlLeGZ_"
   },
   "outputs": [],
   "source": [
    "from sklearn.tree import DecisionTreeClassifier"
   ]
  },
  {
   "cell_type": "code",
   "execution_count": null,
   "metadata": {
    "colab": {
     "base_uri": "https://localhost:8080/"
    },
    "id": "IHLqjUv-eHxA",
    "outputId": "314b0b4f-4f89-48f8-fea9-72137006f0f0"
   },
   "outputs": [
    {
     "data": {
      "text/plain": [
       "DecisionTreeClassifier(random_state=42)"
      ]
     },
     "execution_count": 49,
     "metadata": {},
     "output_type": "execute_result"
    }
   ],
   "source": [
    "dec_tree = DecisionTreeClassifier(random_state = 42)\n",
    "dec_tree.fit(X_train, y_train)"
   ]
  },
  {
   "cell_type": "code",
   "execution_count": null,
   "metadata": {
    "id": "_E0lFXdPeKb5"
   },
   "outputs": [],
   "source": [
    "y_pred_dec = dec_tree.predict(X_test)"
   ]
  },
  {
   "cell_type": "code",
   "execution_count": null,
   "metadata": {
    "colab": {
     "base_uri": "https://localhost:8080/"
    },
    "id": "bZAELLtIeMP7",
    "outputId": "2929854b-a824-49d0-ca40-827497853d77"
   },
   "outputs": [
    {
     "name": "stdout",
     "output_type": "stream",
     "text": [
      "Training Accuracy for Decision Tree =  99.92 %\n"
     ]
    }
   ],
   "source": [
    "dectree_train_score = dec_tree.score(X_train,y_train)*100\n",
    "print(f'Training Accuracy for Decision Tree = ', round(dectree_train_score, 2), '%')"
   ]
  },
  {
   "cell_type": "code",
   "execution_count": null,
   "metadata": {
    "colab": {
     "base_uri": "https://localhost:8080/",
     "height": 525
    },
    "id": "rMoGZKvFeNsY",
    "outputId": "1b3236f0-b771-45a0-d049-5653045db995"
   },
   "outputs": [
    {
     "name": "stdout",
     "output_type": "stream",
     "text": [
      "Testing Accuracy for Decision Tree =  64.01 %\n",
      "Confusion matrix for Decision Tree: \n"
     ]
    },
    {
     "name": "stderr",
     "output_type": "stream",
     "text": [
      "/usr/local/lib/python3.7/dist-packages/sklearn/utils/deprecation.py:87: FutureWarning: Function plot_confusion_matrix is deprecated; Function `plot_confusion_matrix` is deprecated in 1.0 and will be removed in 1.2. Use one of the class methods: ConfusionMatrixDisplay.from_predictions or ConfusionMatrixDisplay.from_estimator.\n",
      "  warnings.warn(msg, category=FutureWarning)\n"
     ]
    },
    {
     "data": {
      "image/png": "[encoded data removed]",
      "text/plain": [
       "<Figure size 432x288 with 2 Axes>"
      ]
     },
     "metadata": {
      "needs_background": "light"
     },
     "output_type": "display_data"
    },
    {
     "name": "stdout",
     "output_type": "stream",
     "text": [
      "              precision    recall  f1-score   support\n",
      "\n",
      "         0.0       0.67      0.69      0.68      1264\n",
      "         1.0       0.60      0.58      0.59      1003\n",
      "\n",
      "    accuracy                           0.64      2267\n",
      "   macro avg       0.63      0.63      0.63      2267\n",
      "weighted avg       0.64      0.64      0.64      2267\n",
      "\n"
     ]
    }
   ],
   "source": [
    "dec_sc = (metrics.accuracy_score(y_test, y_pred_dec)*100)\n",
    "print(\"Testing Accuracy for Decision Tree = \", round(dec_sc, 2), \"%\")\n",
    "\n",
    "print(\"Confusion matrix for Decision Tree: \")\n",
    "plot_confusion_matrix(dec_tree, X_test, y_test)  \n",
    "plt.show()\n",
    "print(classification_report(y_test, y_pred_dec))"
   ]
  },
  {
   "cell_type": "markdown",
   "metadata": {
    "id": "NCvEzvg8mr_f"
   },
   "source": [
    "# Random Forest"
   ]
  },
  {
   "cell_type": "code",
   "execution_count": null,
   "metadata": {
    "id": "G-VJsFPimtrx"
   },
   "outputs": [],
   "source": [
    "from sklearn.ensemble import RandomForestClassifier"
   ]
  },
  {
   "cell_type": "code",
   "execution_count": null,
   "metadata": {
    "id": "OaksvyoAm6Ds"
   },
   "outputs": [],
   "source": [
    "ran_for = RandomForestClassifier(n_estimators=5, max_depth=5)"
   ]
  },
  {
   "cell_type": "code",
   "execution_count": null,
   "metadata": {
    "colab": {
     "base_uri": "https://localhost:8080/"
    },
    "id": "isP9nJfhnM-o",
    "outputId": "c8ec8e92-357d-43d8-9ebb-8aa903dd6657"
   },
   "outputs": [
    {
     "data": {
      "text/plain": [
       "RandomForestClassifier(max_depth=5, n_estimators=5)"
      ]
     },
     "execution_count": 60,
     "metadata": {},
     "output_type": "execute_result"
    }
   ],
   "source": [
    "ran_for.fit(X_train, y_train)"
   ]
  },
  {
   "cell_type": "code",
   "execution_count": null,
   "metadata": {
    "id": "to1-2l2XnQOt"
   },
   "outputs": [],
   "source": [
    "y_pred_rf = ran_for.predict(X_test)"
   ]
  },
  {
   "cell_type": "code",
   "execution_count": null,
   "metadata": {
    "colab": {
     "base_uri": "https://localhost:8080/"
    },
    "id": "Y2oOKrIGnUmO",
    "outputId": "ccc27abb-7cbc-4a36-f84c-548cd2a512f2"
   },
   "outputs": [
    {
     "name": "stdout",
     "output_type": "stream",
     "text": [
      "Training Accuracy for Decision Tree =  73.35 %\n"
     ]
    }
   ],
   "source": [
    "ranfor_train_score = ran_for.score(X_train,y_train)*100\n",
    "print(f'Training Accuracy for Decision Tree = ', round(ranfor_train_score, 2), '%')"
   ]
  },
  {
   "cell_type": "code",
   "execution_count": null,
   "metadata": {
    "colab": {
     "base_uri": "https://localhost:8080/",
     "height": 525
    },
    "id": "mROh-k82nbBs",
    "outputId": "2b402655-0349-4c09-fe46-890983c10b28"
   },
   "outputs": [
    {
     "name": "stdout",
     "output_type": "stream",
     "text": [
      "Testing Accuracy for Random Forest =  71.68 %\n",
      "Confusion matrix for Random Forest Classifier \n"
     ]
    },
    {
     "name": "stderr",
     "output_type": "stream",
     "text": [
      "/usr/local/lib/python3.7/dist-packages/sklearn/utils/deprecation.py:87: FutureWarning: Function plot_confusion_matrix is deprecated; Function `plot_confusion_matrix` is deprecated in 1.0 and will be removed in 1.2. Use one of the class methods: ConfusionMatrixDisplay.from_predictions or ConfusionMatrixDisplay.from_estimator.\n",
      "  warnings.warn(msg, category=FutureWarning)\n"
     ]
    },
    {
     "data": {
      "image/png": "[encoded data removed]",
      "text/plain": [
       "<Figure size 432x288 with 2 Axes>"
      ]
     },
     "metadata": {
      "needs_background": "light"
     },
     "output_type": "display_data"
    },
    {
     "name": "stdout",
     "output_type": "stream",
     "text": [
      "              precision    recall  f1-score   support\n",
      "\n",
      "         0.0       0.73      0.77      0.75      1264\n",
      "         1.0       0.69      0.65      0.67      1003\n",
      "\n",
      "    accuracy                           0.72      2267\n",
      "   macro avg       0.71      0.71      0.71      2267\n",
      "weighted avg       0.72      0.72      0.72      2267\n",
      "\n"
     ]
    }
   ],
   "source": [
    "ran_sc = (metrics.accuracy_score(y_test, y_pred_rf)*100)\n",
    "print(\"Testing Accuracy for Random Forest = \", round(ran_sc, 2), \"%\")\n",
    "\n",
    "print(\"Confusion matrix for Random Forest Classifier \")\n",
    "plot_confusion_matrix(ran_for, X_test, y_test)  \n",
    "plt.show()\n",
    "print(classification_report(y_test, y_pred_rf))"
   ]
  },
  {
   "cell_type": "markdown",
   "metadata": {
    "id": "qO2iP1Eweulg"
   },
   "source": [
    "# Naive Bayes"
   ]
  },
  {
   "cell_type": "code",
   "execution_count": null,
   "metadata": {
    "id": "IsUb47i2exZE"
   },
   "outputs": [],
   "source": [
    "from sklearn.naive_bayes import GaussianNB"
   ]
  },
  {
   "cell_type": "code",
   "execution_count": null,
   "metadata": {
    "colab": {
     "base_uri": "https://localhost:8080/"
    },
    "id": "cz7WvgP0ezmp",
    "outputId": "dc3efdcb-06ec-4aa2-ddff-aaae90416eee"
   },
   "outputs": [
    {
     "data": {
      "text/plain": [
       "GaussianNB()"
      ]
     },
     "execution_count": 65,
     "metadata": {},
     "output_type": "execute_result"
    }
   ],
   "source": [
    "naive_bayes_classifier = GaussianNB()\n",
    "naive_bayes_classifier.fit(X_train, y_train)"
   ]
  },
  {
   "cell_type": "code",
   "execution_count": null,
   "metadata": {
    "id": "IxJg_k0Fe0_u"
   },
   "outputs": [],
   "source": [
    "y_pred_naive = naive_bayes_classifier.predict(X_test)"
   ]
  },
  {
   "cell_type": "code",
   "execution_count": null,
   "metadata": {
    "colab": {
     "base_uri": "https://localhost:8080/"
    },
    "id": "sAtNI1pDe2WY",
    "outputId": "f2ac96f8-edfb-4169-c17e-71eb7248c3e1"
   },
   "outputs": [
    {
     "name": "stdout",
     "output_type": "stream",
     "text": [
      "Training Accuracy for Naive Bayes =  73.35 %\n"
     ]
    }
   ],
   "source": [
    "naive_train_score = ran_for.score(X_train,y_train)*100\n",
    "print(f'Training Accuracy for Naive Bayes = ', round(naive_train_score, 2), '%')"
   ]
  },
  {
   "cell_type": "code",
   "execution_count": null,
   "metadata": {
    "colab": {
     "base_uri": "https://localhost:8080/",
     "height": 525
    },
    "id": "vIgLrGO5e3uu",
    "outputId": "7954f842-27b7-4648-c6a6-6e0e0c5da08b"
   },
   "outputs": [
    {
     "name": "stdout",
     "output_type": "stream",
     "text": [
      "Testing Accuracy for Naive Bayes Classification Model =  69.39 %\n",
      "Confusion matrix for Naive Bayes \n"
     ]
    },
    {
     "name": "stderr",
     "output_type": "stream",
     "text": [
      "/usr/local/lib/python3.7/dist-packages/sklearn/utils/deprecation.py:87: FutureWarning: Function plot_confusion_matrix is deprecated; Function `plot_confusion_matrix` is deprecated in 1.0 and will be removed in 1.2. Use one of the class methods: ConfusionMatrixDisplay.from_predictions or ConfusionMatrixDisplay.from_estimator.\n",
      "  warnings.warn(msg, category=FutureWarning)\n"
     ]
    },
    {
     "data": {
      "image/png": "[encoded data removed]",
      "text/plain": [
       "<Figure size 432x288 with 2 Axes>"
      ]
     },
     "metadata": {
      "needs_background": "light"
     },
     "output_type": "display_data"
    },
    {
     "name": "stdout",
     "output_type": "stream",
     "text": [
      "              precision    recall  f1-score   support\n",
      "\n",
      "         0.0       0.75      0.68      0.71      1264\n",
      "         1.0       0.64      0.71      0.67      1003\n",
      "\n",
      "    accuracy                           0.69      2267\n",
      "   macro avg       0.69      0.70      0.69      2267\n",
      "weighted avg       0.70      0.69      0.69      2267\n",
      "\n"
     ]
    }
   ],
   "source": [
    "naive_sc = (metrics.accuracy_score(y_test, y_pred_naive)*100)\n",
    "print(\"Testing Accuracy for Naive Bayes Classification Model = \", round(naive_sc, 2), \"%\")\n",
    "\n",
    "print(\"Confusion matrix for Naive Bayes \")\n",
    "plot_confusion_matrix(naive_bayes_classifier, X_test, y_test)  \n",
    "plt.show()\n",
    "print(classification_report(y_test, y_pred_naive))"
   ]
  },
  {
   "cell_type": "markdown",
   "metadata": {
    "id": "z5ng6Eb1e-vT"
   },
   "source": [
    "# SVM"
   ]
  },
  {
   "cell_type": "code",
   "execution_count": null,
   "metadata": {
    "colab": {
     "base_uri": "https://localhost:8080/",
     "height": 559
    },
    "id": "sWndbHm0fAGI",
    "outputId": "175c9bee-21e4-476e-ca3d-74c6bce27847"
   },
   "outputs": [
    {
     "name": "stdout",
     "output_type": "stream",
     "text": [
      "For kernel: linear\n",
      "Training Accuracy = 73.19655857048313 %\n",
      "Testing Accuracy =  73.45 %\n",
      "Confusion matrix = \n"
     ]
    },
    {
     "name": "stderr",
     "output_type": "stream",
     "text": [
      "/usr/local/lib/python3.7/dist-packages/sklearn/utils/deprecation.py:87: FutureWarning: Function plot_confusion_matrix is deprecated; Function `plot_confusion_matrix` is deprecated in 1.0 and will be removed in 1.2. Use one of the class methods: ConfusionMatrixDisplay.from_predictions or ConfusionMatrixDisplay.from_estimator.\n",
      "  warnings.warn(msg, category=FutureWarning)\n"
     ]
    },
    {
     "data": {
      "image/png": "[encoded data removed]",
      "text/plain": [
       "<Figure size 432x288 with 2 Axes>"
      ]
     },
     "metadata": {
      "needs_background": "light"
     },
     "output_type": "display_data"
    },
    {
     "name": "stdout",
     "output_type": "stream",
     "text": [
      "              precision    recall  f1-score   support\n",
      "\n",
      "         0.0       0.73      0.82      0.78      1264\n",
      "         1.0       0.74      0.62      0.68      1003\n",
      "\n",
      "    accuracy                           0.73      2267\n",
      "   macro avg       0.73      0.72      0.73      2267\n",
      "weighted avg       0.73      0.73      0.73      2267\n",
      "\n"
     ]
    }
   ],
   "source": [
    "from sklearn.svm import SVC\n",
    "\n",
    "kernel = ['linear']\n",
    "\n",
    "for i in kernel:\n",
    "  svm_model = SVC(kernel=i)\n",
    "  svm_model.fit(X_train, y_train)\n",
    "  print('For kernel:', i)\n",
    "  y_pred_svm_lin = svm_model.predict(X_test)\n",
    "  print(f'Training Accuracy = {svm_model.score(X_train,y_train)*100} %')\n",
    "  svm_sc = (metrics.accuracy_score(y_test, y_pred_svm_lin)*100)\n",
    "  print(\"Testing Accuracy = \", round(svm_sc, 2), \"%\")\n",
    "  print(\"Confusion matrix = \")\n",
    "  plot_confusion_matrix(svm_model, X_test, y_test)  \n",
    "  plt.show()\n",
    "  print(classification_report(y_test, y_pred_svm_lin))"
   ]
  },
  {
   "cell_type": "code",
   "execution_count": null,
   "metadata": {
    "colab": {
     "base_uri": "https://localhost:8080/",
     "height": 559
    },
    "id": "33Bw14NrUtUa",
    "outputId": "53feef9b-c0b6-4ec0-b928-2d1b49486995"
   },
   "outputs": [
    {
     "name": "stdout",
     "output_type": "stream",
     "text": [
      "For kernel: rbf\n",
      "Training Accuracy = 74.3657621883962 %\n",
      "Testing Accuracy =  73.31 %\n",
      "Confusion matrix = \n"
     ]
    },
    {
     "name": "stderr",
     "output_type": "stream",
     "text": [
      "/usr/local/lib/python3.7/dist-packages/sklearn/utils/deprecation.py:87: FutureWarning: Function plot_confusion_matrix is deprecated; Function `plot_confusion_matrix` is deprecated in 1.0 and will be removed in 1.2. Use one of the class methods: ConfusionMatrixDisplay.from_predictions or ConfusionMatrixDisplay.from_estimator.\n",
      "  warnings.warn(msg, category=FutureWarning)\n"
     ]
    },
    {
     "data": {
      "image/png": "[encoded data removed]",
      "text/plain": [
       "<Figure size 432x288 with 2 Axes>"
      ]
     },
     "metadata": {
      "needs_background": "light"
     },
     "output_type": "display_data"
    },
    {
     "name": "stdout",
     "output_type": "stream",
     "text": [
      "              precision    recall  f1-score   support\n",
      "\n",
      "         0.0       0.74      0.80      0.77      1264\n",
      "         1.0       0.72      0.65      0.68      1003\n",
      "\n",
      "    accuracy                           0.73      2267\n",
      "   macro avg       0.73      0.72      0.73      2267\n",
      "weighted avg       0.73      0.73      0.73      2267\n",
      "\n"
     ]
    }
   ],
   "source": [
    "from sklearn.svm import SVC\n",
    "import matplotlib.pyplot as plt\n",
    "from sklearn.metrics import accuracy_score\n",
    "from sklearn.metrics import mean_squared_error, mean_absolute_error, plot_confusion_matrix, classification_report\n",
    "\n",
    "kernel = ['rbf']\n",
    "\n",
    "for i in kernel:\n",
    "  svm_model = SVC(kernel=i)\n",
    "  svm_model.fit(X_train, y_train)\n",
    "  print('For kernel:', i)\n",
    "  y_pred_svm = svm_model.predict(X_test)\n",
    "  print(f'Training Accuracy = {svm_model.score(X_train,y_train)*100} %')\n",
    "  svm_sc = (metrics.accuracy_score(y_test, y_pred_svm)*100)\n",
    "  print(\"Testing Accuracy = \", round(svm_sc, 2), \"%\")\n",
    "  print(\"Confusion matrix = \")\n",
    "  plot_confusion_matrix(svm_model, X_test, y_test)  \n",
    "  plt.show()\n",
    "  print(classification_report(y_test, y_pred_svm))"
   ]
  },
  {
   "cell_type": "code",
   "execution_count": null,
   "metadata": {
    "colab": {
     "base_uri": "https://localhost:8080/",
     "height": 559
    },
    "id": "6-KKbKbRU3rG",
    "outputId": "9254060f-96e9-4b80-93d3-1bb2008f627f"
   },
   "outputs": [
    {
     "name": "stdout",
     "output_type": "stream",
     "text": [
      "For kernel: poly\n",
      "Training Accuracy = 73.35098168983014 %\n",
      "Testing Accuracy =  72.83 %\n",
      "Confusion matrix = \n"
     ]
    },
    {
     "name": "stderr",
     "output_type": "stream",
     "text": [
      "/usr/local/lib/python3.7/dist-packages/sklearn/utils/deprecation.py:87: FutureWarning: Function plot_confusion_matrix is deprecated; Function `plot_confusion_matrix` is deprecated in 1.0 and will be removed in 1.2. Use one of the class methods: ConfusionMatrixDisplay.from_predictions or ConfusionMatrixDisplay.from_estimator.\n",
      "  warnings.warn(msg, category=FutureWarning)\n"
     ]
    },
    {
     "data": {
      "image/png": "[encoded data removed]",
      "text/plain": [
       "<Figure size 432x288 with 2 Axes>"
      ]
     },
     "metadata": {
      "needs_background": "light"
     },
     "output_type": "display_data"
    },
    {
     "name": "stdout",
     "output_type": "stream",
     "text": [
      "              precision    recall  f1-score   support\n",
      "\n",
      "         0.0       0.72      0.84      0.78      1264\n",
      "         1.0       0.75      0.59      0.66      1003\n",
      "\n",
      "    accuracy                           0.73      2267\n",
      "   macro avg       0.73      0.71      0.72      2267\n",
      "weighted avg       0.73      0.73      0.72      2267\n",
      "\n"
     ]
    }
   ],
   "source": [
    "from sklearn.svm import SVC\n",
    "import matplotlib.pyplot as plt\n",
    "from sklearn.metrics import accuracy_score\n",
    "from sklearn.metrics import mean_squared_error, mean_absolute_error, plot_confusion_matrix, classification_report\n",
    "\n",
    "kernel = ['poly']\n",
    "\n",
    "for i in kernel:\n",
    "  svm_model = SVC(kernel=i)\n",
    "  svm_model.fit(X_train, y_train)\n",
    "  print('For kernel:', i)\n",
    "  y_pred_svm = svm_model.predict(X_test)\n",
    "  print(f'Training Accuracy = {svm_model.score(X_train,y_train)*100} %')\n",
    "  svm_sc = (metrics.accuracy_score(y_test, y_pred_svm)*100)\n",
    "  print(\"Testing Accuracy = \", round(svm_sc, 2), \"%\")\n",
    "  print(\"Confusion matrix = \")\n",
    "  plot_confusion_matrix(svm_model, X_test, y_test)  \n",
    "  plt.show()\n",
    "  print(classification_report(y_test, y_pred_svm))"
   ]
  },
  {
   "cell_type": "markdown",
   "metadata": {
    "id": "jNC1DOL6osaN"
   },
   "source": [
    "# Cross validations for SVM"
   ]
  },
  {
   "cell_type": "code",
   "execution_count": null,
   "metadata": {
    "id": "1YH4geXCg1XD"
   },
   "outputs": [],
   "source": [
    "from sklearn.model_selection import cross_val_score"
   ]
  },
  {
   "cell_type": "code",
   "execution_count": null,
   "metadata": {
    "colab": {
     "base_uri": "https://localhost:8080/"
    },
    "id": "Z6DraDT1_uyC",
    "outputId": "f55bae94-506b-41aa-89a3-f8e81b650547"
   },
   "outputs": [
    {
     "data": {
      "text/plain": [
       "array([0.74327305, 0.73048081, 0.72209969, 0.72771403, 0.72639011])"
      ]
     },
     "execution_count": 97,
     "metadata": {},
     "output_type": "execute_result"
    }
   ],
   "source": [
    "from sklearn import svm\n",
    "import numpy as np\n",
    "cross_val_score(svm.SVC(kernel='linear', C=1, gamma='auto'), X, y, cv=5)"
   ]
  },
  {
   "cell_type": "code",
   "execution_count": null,
   "metadata": {
    "colab": {
     "base_uri": "https://localhost:8080/"
    },
    "id": "Sxrdyb65ySlO",
    "outputId": "c5a46aa9-4516-46f6-ff7a-0f07360a2c99"
   },
   "outputs": [
    {
     "data": {
      "text/plain": [
       "array([0.74415527, 0.7340097 , 0.72342303, 0.7250662 , 0.73080318])"
      ]
     },
     "execution_count": 98,
     "metadata": {},
     "output_type": "execute_result"
    }
   ],
   "source": [
    "cross_val_score(svm.SVC(kernel='rbf', C=1, gamma='auto'), X, y, cv=5)"
   ]
  },
  {
   "cell_type": "code",
   "execution_count": null,
   "metadata": {
    "colab": {
     "base_uri": "https://localhost:8080/"
    },
    "id": "Pfp03KMxNHnU",
    "outputId": "d126bf18-92e0-41c5-c094-cbd20e62b96d"
   },
   "outputs": [
    {
     "data": {
      "text/plain": [
       "array([0.7260697 , 0.72077636, 0.71812969, 0.71888791, 0.72065313])"
      ]
     },
     "execution_count": 99,
     "metadata": {},
     "output_type": "execute_result"
    }
   ],
   "source": [
    "cross_val_score(svm.SVC(kernel='poly', C=1, gamma='auto'), X, y, cv=5)"
   ]
  },
  {
   "cell_type": "code",
   "execution_count": null,
   "metadata": {
    "colab": {
     "base_uri": "https://localhost:8080/"
    },
    "id": "tEY9PiLsyT6w",
    "outputId": "80664977-564f-4340-b22f-13c68aec97c8"
   },
   "outputs": [
    {
     "data": {
      "text/plain": [
       "{'poly_1': 0.7209033560689443}"
      ]
     },
     "execution_count": 100,
     "metadata": {},
     "output_type": "execute_result"
    }
   ],
   "source": [
    "from sklearn import svm\n",
    "import numpy as np\n",
    "kernels = ['rbf']\n",
    "C=[1]\n",
    "avg_scores={}\n",
    "\n",
    "for kval in kernels:\n",
    "  for cval in C:\n",
    "    cv_scores = cross_val_score(svm.SVC(kernel=kval, C=cval, gamma='auto'), X, y, cv=5)\n",
    "    avg_scores[kval + '_' + str(cval)] = np.average(cv_scores)\n",
    "\n",
    "avg_scores"
   ]
  },
  {
   "cell_type": "code",
   "execution_count": null,
   "metadata": {
    "id": "D9GBCnfDfKZz"
   },
   "outputs": [],
   "source": [
    "from sklearn.model_selection import RandomizedSearchCV\n",
    "from sklearn import svm\n",
    "\n",
    "rs = RandomizedSearchCV(svm.SVC(gamma ='auto'), {\n",
    "    'C':[1], \n",
    "    'kernel': ['rbf']  \n",
    "  }, \n",
    "  cv=5, \n",
    "  return_train_score=False,\n",
    "  n_iter=2\n",
    "  )"
   ]
  },
  {
   "cell_type": "code",
   "execution_count": null,
   "metadata": {
    "id": "7dzq69m0ko0U"
   },
   "outputs": [],
   "source": [
    "rs.fit(X, y)"
   ]
  },
  {
   "cell_type": "code",
   "execution_count": null,
   "metadata": {
    "id": "BHJEIvLnlfZa"
   },
   "outputs": [],
   "source": [
    "pd.DataFrame(rs.cv_results_)[['param_C', 'param_kernel', 'mean_test_score']]"
   ]
  },
  {
   "cell_type": "markdown",
   "metadata": {
    "id": "bFOoSqGMGqwc"
   },
   "source": [
    "# ROC and AUC"
   ]
  },
  {
   "cell_type": "code",
   "execution_count": null,
   "metadata": {
    "id": "uD4239VtGp1E"
   },
   "outputs": [],
   "source": [
    "from sklearn.metrics import roc_curve, auc"
   ]
  },
  {
   "cell_type": "code",
   "execution_count": null,
   "metadata": {
    "id": "pp7L53zcGxNW"
   },
   "outputs": [],
   "source": [
    "logistic_fpr, logistic_tpr, threshhold = roc_curve(y_test, y_pred_log)\n",
    "auc_logistic = auc(logistic_fpr, logistic_tpr)\n",
    "\n",
    "knn_fpr, knn_tpr, threshhold = roc_curve(y_test, y_pred_knn)\n",
    "auc_knn = auc(knn_fpr, knn_tpr)\n",
    "\n",
    "rf_fpr, rf_tpr, threshhold = roc_curve(y_test, y_pred_rf)\n",
    "auc_rf = auc(rf_fpr, rf_tpr)\n",
    "\n",
    "nb_fpr, nb_tpr, threshhold = roc_curve(y_test, y_pred_naive)\n",
    "auc_nb = auc(nb_fpr, nb_tpr)\n",
    "\n",
    "svm_fpr, svm_tpr, threshhold = roc_curve(y_test, y_pred_svm_lin)\n",
    "auc_svm = auc(svm_fpr, svm_tpr)"
   ]
  },
  {
   "cell_type": "code",
   "execution_count": null,
   "metadata": {
    "colab": {
     "base_uri": "https://localhost:8080/",
     "height": 457
    },
    "id": "xpsGVwvHJRUp",
    "outputId": "cb9b17a8-d19a-4cc4-faf2-09be03ca7980"
   },
   "outputs": [
    {
     "data": {
      "image/png": "[encoded data removed]",
      "text/plain": [
       "<Figure size 500x500 with 1 Axes>"
      ]
     },
     "metadata": {
      "needs_background": "light"
     },
     "output_type": "display_data"
    }
   ],
   "source": [
    "plt.figure(figsize = (5, 5), dpi = 100)\n",
    "\n",
    "plt.plot(logistic_fpr, logistic_tpr, marker='.', label = 'Logistic (auc = %0.3f)' % auc_logistic)\n",
    "plt.plot(knn_fpr, knn_tpr, linestyle='-', label = 'KNN (auc = %0.3f)' % auc_knn)\n",
    "plt.plot(rf_fpr, rf_tpr, marker='.', label = 'Random Forest (auc = %0.3f)' % auc_rf)\n",
    "plt.plot(nb_fpr, nb_tpr, linestyle='-', label = 'Naive Bayes (auc = %0.3f)' % auc_nb)\n",
    "plt.plot(svm_fpr, svm_tpr, linestyle='-', label = 'SVM (auc = %0.3f)' % auc_svm)\n",
    "\n",
    "plt.xlabel('False Positive Rate (fpr)')\n",
    "plt.ylabel('True Positive Rate (tpr)')\n",
    "\n",
    "plt.legend()\n",
    "\n",
    "plt.show()"
   ]
  }
 ],
 "metadata": {
  "colab": {
   "collapsed_sections": [
    "SZC9mVeRH537"
   ],
   "name": "Classifying Socially Isolated Individuals.ipynb",
   "provenance": [],
   "toc_visible": true
  },
  "gpuClass": "standard",
  "kernelspec": {
   "display_name": "Python 3 (ipykernel)",
   "language": "python",
   "name": "python3"
  },
  "language_info": {
   "codemirror_mode": {
    "name": "ipython",
    "version": 3
   },
   "file_extension": ".py",
   "mimetype": "text/x-python",
   "name": "python",
   "nbconvert_exporter": "python",
   "pygments_lexer": "ipython3",
   "version": "3.10.4"
  }
 },
 "nbformat": 4,
 "nbformat_minor": 1
}
